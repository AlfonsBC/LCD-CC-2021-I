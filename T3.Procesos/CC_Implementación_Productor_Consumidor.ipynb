{
  "nbformat": 4,
  "nbformat_minor": 0,
  "metadata": {
    "colab": {
      "name": "CC_Implementación_Productor_Consumidor",
      "provenance": [],
      "collapsed_sections": []
    },
    "kernelspec": {
      "name": "python3",
      "display_name": "Python 3"
    }
  },
  "cells": [
    {
      "cell_type": "markdown",
      "metadata": {
        "id": "mDySbcNaJNRO"
      },
      "source": [
        "## Implementación para 1 empresa y 1 vendedor"
      ]
    },
    {
      "cell_type": "markdown",
      "metadata": {
        "id": "NCs45aw2KbM_"
      },
      "source": [
        "Suposiciones:\r\n",
        "- Se puede producir y vender de forma indefinida.\r\n",
        "- La empresa sube la mercancia al camión que es de tamaño finito.\r\n",
        "- En caso de llenarse el camión la empresa espera hasta que haya espacio.\r\n",
        "- El comprador compra desde el camión, si no hay mercancia espera."
      ]
    },
    {
      "cell_type": "code",
      "metadata": {
        "id": "pb0KJd_YgZJ9",
        "colab": {
          "base_uri": "https://localhost:8080/"
        },
        "outputId": "32a370bd-3f9b-494a-8433-70f3ce06b19a"
      },
      "source": [
        "import multiprocessing as mp \r\n",
        "import time\r\n",
        "N = 100\r\n",
        "camion = []\r\n",
        "en_camion = mp.Semaphore(0)\r\n",
        "espacios_vacios = mp.Semaphore(N)\r\n",
        "\r\n",
        "def producir_caja():\r\n",
        "  print(\"Una caja de naranjas producida!\")\r\n",
        "  return 1\r\n",
        "\r\n",
        "def empresa_narajas(en_camion, espacios_vacios):\r\n",
        "  for i in range(3):\r\n",
        "    caja_naranjas = producir_caja()\r\n",
        "    espacios_vacios.acquire()\r\n",
        "    camion.append(caja_naranjas)\r\n",
        "    en_camion.release()\r\n",
        "\r\n",
        "def vender_naranjas(caja_naranjas):\r\n",
        "    print(\"Una caja de naranjas vendida!\")\r\n",
        "\r\n",
        "def comprador_central(en_camion, espacios_vacios):\r\n",
        "  for i in range(3):\r\n",
        "    en_camion.acquire()\r\n",
        "    caja_naranjas = camion.pop(0)\r\n",
        "    espacios_vacios.release()\r\n",
        "    vender_naranjas(caja_naranjas)\r\n",
        "\r\n",
        "empresa_narajas_proceso = mp.Process(target=empresa_narajas(en_camion, espacios_vacios))\r\n",
        "comprador_central_proceso = mp.Process(target=comprador_central(en_camion, espacios_vacios))\r\n",
        "\r\n",
        "empresa_narajas_proceso.start()\r\n",
        "comprador_central_proceso.start()                            "
      ],
      "execution_count": 33,
      "outputs": [
        {
          "output_type": "stream",
          "text": [
            "Una caja de naranjas producida!\n",
            "Una caja de naranjas producida!\n",
            "Una caja de naranjas producida!\n",
            "Una caja de naranjas vendida!\n",
            "Una caja de naranjas vendida!\n",
            "Una caja de naranjas vendida!\n"
          ],
          "name": "stdout"
        }
      ]
    },
    {
      "cell_type": "markdown",
      "metadata": {
        "id": "faorp91lKROS"
      },
      "source": [
        "## Implementación $n\\_empresas$ y $n\\_compradores$"
      ]
    },
    {
      "cell_type": "markdown",
      "metadata": {
        "id": "41zRU9a0KxCY"
      },
      "source": [
        "Suposiciones:\r\n",
        "- Se tiene $n\\_emmpresas$ y $n\\_compradores$.\r\n",
        "- Las empresas comparten un camión de tamaño finito a donde suben la mercancia.\r\n",
        "- En caso de llenarse el camión las empresas esperan a que haya espacio.\r\n",
        "- Cada empresa tiene una capacidad de $venta máxima$.\r\n",
        "- Cada comprador reliza un $compra total$.\r\n",
        "- De no haber mercancía en el camión los compradores esperarán hasta que haya."
      ]
    },
    {
      "cell_type": "code",
      "metadata": {
        "colab": {
          "base_uri": "https://localhost:8080/"
        },
        "id": "6g5iRaHSADZ7",
        "outputId": "228a826d-f737-4591-ba4e-ec7e275977bf"
      },
      "source": [
        "import multiprocessing as mp \r\n",
        "import time \r\n",
        "import random \r\n",
        "from sys import stdout \r\n",
        "\r\n",
        "class Empresa(mp.Process):\r\n",
        "  def __init__(self, id, venta_maxima, camion, en_camion, mutex, espacios_vacios):\r\n",
        "    mp.Process.__init__(self)\r\n",
        "    self.id = id \r\n",
        "    self.venta_maxima = venta_maxima \r\n",
        "    self.venta_actual = 0\r\n",
        "    self.camion = camion\r\n",
        "    self.en_camion = en_camion\r\n",
        "    self.mutex = mutex \r\n",
        "    self.espacios_vacios = espacios_vacios\r\n",
        "\r\n",
        "  def vender_naranjas(self):\r\n",
        "    self.espacios_vacios.acquire()\r\n",
        "    self.mutex.acquire()\r\n",
        "    self.camion.put(1)\r\n",
        "    self.mutex.release()\r\n",
        "    self.en_camion.release()\r\n",
        "\r\n",
        "  def run(self):\r\n",
        "    print(f\"Empresa {self.id} ha comenzado a vender y tiene hasta {self.venta_maxima} cajas de naranjas\")\r\n",
        "    while self.venta_actual < self.venta_maxima:\r\n",
        "      self.vender_naranjas()\r\n",
        "      print(f\"Empresa {self.id} acaba de vender una caja de naranjas\")\r\n",
        "      self.venta_maxima += 1\r\n",
        "      time.sleep(1)\r\n",
        "\r\n",
        "class Comprador(mp.Process):\r\n",
        "  def __init__(self, id, compra_total, camion, en_camion, mutex, espacios_vacios):\r\n",
        "    mp.Process.__init__(self)\r\n",
        "    self.id = id\r\n",
        "    self.compra_total = compra_total \r\n",
        "    self.compra_actual = 0\r\n",
        "    self.camion = camion\r\n",
        "    self.en_camion = en_camion\r\n",
        "    self.mutex = mutex\r\n",
        "    self.espacios_vacios = espacios_vacios\r\n",
        "\r\n",
        "  def comprar_naranjas(self):\r\n",
        "    en_camion.acquire()\r\n",
        "    self.mutex.acquire()\r\n",
        "    print(f\"Comprador {id} acaba de comprar una caja de naranjas\")\r\n",
        "    caja_naranjas = self.camion.get()\r\n",
        "    self.mutex.release()\r\n",
        "    espacios_vacios.release()\r\n",
        "\r\n",
        "  def run(self):\r\n",
        "    print(f\"Comprador {self.id} ha llegado y requiere {self.compra_total} cajas de naranjas\")\r\n",
        "    while self.compra_actual < self.compra_total:\r\n",
        "      self.comprar_naranjas()\r\n",
        "      self.compra_actual += 1\r\n",
        " \r\n",
        "class Central():\r\n",
        "  def __init__(self, capacidad_camion, n_empresas, n_compradores):\r\n",
        "    self.n_empresas = n_empresas\r\n",
        "    self.n_compradores = n_compradores \r\n",
        "    self.camion = mp.Queue()\r\n",
        "    self.en_camion = mp.Semaphore(0)\r\n",
        "    self.espacios_vacios = mp.Semaphore(capacidad_camion)\r\n",
        "    self.mutex = mp.Lock()\r\n",
        "\r\n",
        "  def comenzar_dia(self):\r\n",
        "    self.empresas = [Empresa(i, random.randint(1, 5), self.camion, self.en_camion, self.mutex, self.espacios_vacios) for i in range(self.n_empresas)]\r\n",
        "    self.compradores = [Comprador(i, random.randint(1, 2), self.camion, self.en_camion, self.mutex, self.espacios_vacios) for i in range(self.n_compradores)]\r\n",
        "    for empresa in self.empresas:\r\n",
        "      empresa.start()\r\n",
        "    for comprador in self.compradores:\r\n",
        "      comprador.start()\r\n",
        "\r\n",
        "central_abastos = Central(capacidad_camion=10, n_empresas=2, n_compradores=3)\r\n",
        "central_abastos.comenzar_dia()"
      ],
      "execution_count": 44,
      "outputs": [
        {
          "output_type": "stream",
          "text": [
            "Empresa 0 ha comenzado a vender y tiene hasta 5 cajas de naranjas\n",
            "Empresa 0 acaba de vender una caja de naranjas\n",
            "Empresa 1 ha comenzado a vender y tiene hasta 5 cajas de naranjas\n",
            "Empresa 1 acaba de vender una caja de naranjas\n",
            "Comprador 1 ha llegado y requiere 1 cajas de naranjas\n",
            "Comprador 0 ha llegado y requiere 1 cajas de naranjas\n",
            "Comprador 2 ha llegado y requiere 2 cajas de naranjas\n"
          ],
          "name": "stdout"
        }
      ]
    }
  ]
}