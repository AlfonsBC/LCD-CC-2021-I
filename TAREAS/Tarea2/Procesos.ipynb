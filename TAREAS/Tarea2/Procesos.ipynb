{
  "nbformat": 4,
  "nbformat_minor": 0,
  "metadata": {
    "colab": {
      "name": "Procesos.ipynb",
      "provenance": [],
      "collapsed_sections": []
    },
    "kernelspec": {
      "name": "python3",
      "display_name": "Python 3"
    }
  },
  "cells": [
    {
      "cell_type": "markdown",
      "metadata": {
        "id": "2dadwMnkNxNh"
      },
      "source": [
        "Integrantes:  \r\n",
        "Barajas Cervantes Alfonso      \r\n",
        "Cabello Figueroa Israel            \r\n",
        "Cerritos Lira Carlos                 \r\n",
        "Franco López Benito Vicente   "
      ]
    },
    {
      "cell_type": "markdown",
      "metadata": {
        "id": "ph6ixE8jOSDJ"
      },
      "source": [
        "# Programa 1"
      ]
    },
    {
      "cell_type": "markdown",
      "metadata": {
        "id": "sar7ccTRPlnE"
      },
      "source": [
        "Realiza el *Programa1* que instancie, como clase o con el método Process, $10$ procesos. Cada uno de los\r\n",
        "procesos hijos recibirán un valor entero y un caracter $(i,c)$ enviados por el proceso padre, los procesos\r\n",
        "escribirán en la salida estándar $i$ veces el caracter $c$."
      ]
    },
    {
      "cell_type": "code",
      "metadata": {
        "id": "rLcnbn69O8S_",
        "colab": {
          "base_uri": "https://localhost:8080/"
        },
        "outputId": "c49829a2-0872-4377-c438-dc5c50993bb6"
      },
      "source": [
        "from multiprocess import Process\r\n",
        "import numpy as np\r\n",
        "import random\r\n",
        "from string import ascii_letters as abc #Está libreria es para generar un carácter aleatorio\r\n",
        "\r\n",
        "def imprimir(i, c):  #Nuestra función para imprimir en pantalla i veces el carácter c\r\n",
        "  print(f\"Process starting with i = {i}, c = {c}\")  # Para marcar el inicio\r\n",
        "  for i in range(i):\r\n",
        "    print(c)\r\n",
        "\r\n",
        "def ejecutar_procesos(n):\r\n",
        "  for i in range(n):\r\n",
        "    p = Process(target = imprimir, args = ( np.random.randint(1, 5), random.choice(abc))) # Con el método Process iniciamos nuestros procesos hijo\r\n",
        "    p.start()\r\n",
        "\r\n",
        "Padre = Process(target = ejecutar_procesos, args=(10,) )\r\n",
        "Padre.start() # El proceso padre se ejecuta.\r\n",
        "Padre.join()\r\n",
        " "
      ],
      "execution_count": null,
      "outputs": [
        {
          "output_type": "stream",
          "text": [
            "Process starting with i = 3, c = Y\n",
            "Process starting with i = 3, c = T\n",
            "Y\n",
            "Process starting with i = 2, c = h\n",
            "T\n",
            "Process starting with i = 3, c = O\n",
            "h\n",
            "Y\n",
            "T\n",
            "O\n",
            "Y\n",
            "h\n",
            "O\n",
            "T\n",
            "O\n",
            "Process starting with i = 3, c = y\n",
            "Process starting with i = 3, c = s\n",
            "y\n",
            "y\n",
            "Process starting with i = 2, c = n\n",
            "s\n",
            "Process starting with i = 1, c = G\n",
            "n\n",
            "Process starting with i = 3, c = M\n",
            "n\n",
            "s\n",
            "y\n",
            "M\n",
            "Process starting with i = 3, c = X\n",
            "G\n",
            "M\n",
            "X\n",
            "s\n",
            "M\n",
            "X\n",
            "X\n"
          ],
          "name": "stdout"
        }
      ]
    },
    {
      "cell_type": "markdown",
      "metadata": {
        "id": "XkGU2UIcPF81"
      },
      "source": [
        "# Programa 2"
      ]
    },
    {
      "cell_type": "markdown",
      "metadata": {
        "id": "RDTFPysAPrBL"
      },
      "source": [
        "Refactoriza (reescribe) el programa anterior y elabora el Programa2 que incluya un mecanismo de sincronización\r\n",
        "el cual permita escribir en orden todos los caracteres de cada proceso. Es decir, que se obtenga\r\n",
        "la secuencia c1;1...c1;i; c2;1 ... c2;i; ; c10;1, c10;i donde cada subsecuencia ck;i para cada k = 1; 2; ; 10 es la\r\n",
        "secuencia de caracteres del proceso hijo k con longitud i.\r\n",
        "Hint: Prueba usar turnos."
      ]
    },
    {
      "cell_type": "code",
      "metadata": {
        "colab": {
          "base_uri": "https://localhost:8080/"
        },
        "id": "mJSpMNuVORtF",
        "outputId": "48519409-4afb-4e1a-c1a8-4217ebf8d00f"
      },
      "source": [
        "from multiprocess import Process\r\n",
        "from multiprocessing import Process, Value, Array\r\n",
        "import numpy as np\r\n",
        "import string\r\n",
        "import random\r\n",
        "from string import ascii_letters as abc \r\n",
        "\r\n",
        "def imprimir(curr, next, turn, i, c): #Nuestra función para imprimir en pantalla i veces el carácter c\r\n",
        "  while turn.value != curr:\r\n",
        "    continue \r\n",
        "  print(f\"Process {curr} starting with i = {i}, c = {c}\")\r\n",
        "  for i in range(i):\r\n",
        "    print(c)\r\n",
        "  turn.value = next if next else 0\r\n",
        "\r\n",
        "def ejecutar_procesos(n): #Ejecutamos los procesos en orden empezando en el 0 y terminando en 9 (10 procesos)\r\n",
        "  order = range(n+1)\r\n",
        "  turn = Value('i', order[0])\r\n",
        "  \r\n",
        "  for i in range(n):\r\n",
        "    p = Process(target = imprimir, args = (order[i], order[i+1], turn, np.random.randint(1, 5), random.choice(abc))) # Con el método Process iniciamos nuestros procesos hijo\r\n",
        "    p.start()\r\n",
        "\r\n",
        "Padre = Process(target = ejecutar_procesos, args=(10,) )\r\n",
        "Padre.start() # El proceso padre se ejecuta.\r\n",
        "Padre.join()"
      ],
      "execution_count": null,
      "outputs": [
        {
          "output_type": "stream",
          "text": [
            "Process 0 starting with i = 2, c = p\n",
            "p\n",
            "p\n",
            "Process 1 starting with i = 4, c = Y\n",
            "Y\n",
            "Y\n",
            "Y\n",
            "Y\n",
            "Process 2 starting with i = 3, c = V\n",
            "V\n",
            "V\n",
            "V\n",
            "Process 3 starting with i = 4, c = R\n",
            "R\n",
            "R\n",
            "R\n",
            "R\n",
            "Process 4 starting with i = 4, c = s\n",
            "s\n",
            "s\n",
            "s\n",
            "s\n",
            "Process 5 starting with i = 2, c = Z\n",
            "Z\n",
            "Z\n",
            "Process 6 starting with i = 4, c = r\n",
            "r\n",
            "r\n",
            "r\n",
            "r\n",
            "Process 7 starting with i = 4, c = S\n",
            "S\n",
            "S\n",
            "S\n",
            "S\n",
            "Process 8 starting with i = 4, c = e\n",
            "e\n",
            "e\n",
            "e\n",
            "e\n",
            "Process 9 starting with i = 3, c = k\n",
            "k\n",
            "k\n",
            "k\n"
          ],
          "name": "stdout"
        }
      ]
    },
    {
      "cell_type": "markdown",
      "metadata": {
        "id": "L-94OfklPHL0"
      },
      "source": [
        "# Programa 3"
      ]
    },
    {
      "cell_type": "markdown",
      "metadata": {
        "id": "ooYqt6oHPsDc"
      },
      "source": [
        "Refactoriza (reescribe) el Programa2 y elabora el Programa3 donde construyas un mecanismo de sincronización\r\n",
        "el cual permita escribir en orden todos los caracteres de cada proceso siguiendo una política\r\n",
        "de orden p que será una lista de números enteros aleatorios con los índices k de cada proceso hijo. La\r\n",
        "escritura de los caracteres seguirá la secuencia de ck;i(p) donde cada secuencia ck;i estára definida por la\r\n",
        "política p."
      ]
    },
    {
      "cell_type": "code",
      "metadata": {
        "colab": {
          "base_uri": "https://localhost:8080/"
        },
        "id": "u9dg2YkwNhX5",
        "outputId": "256ab916-b38b-49ef-d4e8-3a24b3e9bcaf"
      },
      "source": [
        "from multiprocess import Process\r\n",
        "from multiprocessing import Process, Value, Array\r\n",
        "import numpy as np\r\n",
        "import string\r\n",
        "import random\r\n",
        "from string import ascii_letters as abc \r\n",
        "\r\n",
        "def imprimir(curr, next, turn, i, c): #Nuestra función para imprimir en pantalla i veces el carácter c\r\n",
        "  while turn.value != curr:\r\n",
        "    continue \r\n",
        "  print(f\"Process {curr} starting with i = {i}, c = {c}\")\r\n",
        "  for i in range(i):\r\n",
        "    print(c)\r\n",
        "  turn.value = next if next else 0\r\n",
        "\r\n",
        "def ejecutar_procesos(n): #Ejecutamos los procesos en orden aleatorio (la politica de orden p) (10 procesos)\r\n",
        "  order = np.random.permutation(n)\r\n",
        "  order = np.append(order, n+1)\r\n",
        "  turn = Value('i', order[0])\r\n",
        "  print(\"The order is\", order) \r\n",
        "\r\n",
        "  for i in range(n):\r\n",
        "    p = Process(target = imprimir, args = (order[i], order[i+1], turn, np.random.randint(1, 5), random.choice(abc))) # Con el método Process iniciamos nuestros procesos hijo\r\n",
        "    p.start()\r\n",
        "\r\n",
        "Padre = Process(target = ejecutar_procesos, args=(10,) ) \r\n",
        "Padre.start()  # El proceso padre se ejecuta.\r\n",
        "Padre.join()"
      ],
      "execution_count": null,
      "outputs": [
        {
          "output_type": "stream",
          "text": [
            "The order is [ 0  9  2  4  8  1  3  7  6  5 11]\n",
            "Process 0 starting with i = 2, c = Y\n",
            "Y\n",
            "Y\n",
            "Process 9 starting with i = 2, c = K\n",
            "K\n",
            "K\n",
            "Process 2 starting with i = 1, c = F\n",
            "F\n",
            "Process 4 starting with i = 4, c = k\n",
            "k\n",
            "k\n",
            "k\n",
            "k\n",
            "Process 8 starting with i = 4, c = z\n",
            "z\n",
            "z\n",
            "z\n",
            "z\n",
            "Process 1 starting with i = 2, c = j\n",
            "j\n",
            "j\n",
            "Process 3 starting with i = 3, c = l\n",
            "l\n",
            "l\n",
            "l\n",
            "Process 7 starting with i = 4, c = C\n",
            "C\n",
            "C\n",
            "C\n",
            "C\n",
            "Process 6 starting with i = 1, c = w\n",
            "w\n",
            "Process 5 starting with i = 3, c = p\n",
            "p\n",
            "p\n",
            "p\n"
          ],
          "name": "stdout"
        }
      ]
    }
  ]
}